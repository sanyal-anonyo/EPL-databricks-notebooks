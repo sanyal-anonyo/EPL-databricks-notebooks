{
 "cells": [
  {
   "cell_type": "markdown",
   "metadata": {
    "application/vnd.databricks.v1+cell": {
     "cellMetadata": {
      "byteLimit": 2048000,
      "rowLimit": 10000
     },
     "inputWidgets": {},
     "nuid": "05dbcb59-5999-422a-9a45-44e2d8b57510",
     "showTitle": false,
     "tableResultSettingsMap": {},
     "title": ""
    }
   },
   "source": [
    "# Create Catalog and Schema for the EPL Data Processing\n",
    "For storing the EPL data model we created in the on-prem system we are creating catalogs and schemas(Medellion architecture) within the databricks system.\n",
    "\n",
    "- Catalog:- Catalog is named as epl\n",
    "- Bronze Schema:- Bronze level schema has been named as epl_bronze\n",
    "- Silver Schema:- Silver level schema has been named as epl_silver\n",
    "- Gold Schema:- Gold level schema has been named as epl_gold"
   ]
  },
  {
   "cell_type": "code",
   "execution_count": 0,
   "metadata": {
    "application/vnd.databricks.v1+cell": {
     "cellMetadata": {
      "byteLimit": 2048000,
      "rowLimit": 10000
     },
     "inputWidgets": {},
     "nuid": "2c799fe1-7f7c-4891-ac3b-091b6e26d887",
     "showTitle": false,
     "tableResultSettingsMap": {},
     "title": ""
    }
   },
   "outputs": [],
   "source": [
    "# Create a catalog\n",
    "catalog_name = \"epl\"\n",
    "spark.sql(f\"CREATE CATALOG IF NOT EXISTS {catalog_name}\")\n",
    "\n",
    "# Create a bronze schema (database) within the catalog\n",
    "b_schema_name = \"epl_bronze\"\n",
    "spark.sql(f\"CREATE SCHEMA IF NOT EXISTS {catalog_name}.{b_schema_name}\")\n",
    "\n",
    "# Create a silver schema (database) within the catalog\n",
    "s_schema_name = \"epl_silver\"\n",
    "spark.sql(f\"CREATE SCHEMA IF NOT EXISTS {catalog_name}.{s_schema_name}\")\n",
    "\n",
    "# Create a gold schema (database) within the catalog\n",
    "g_schema_name = \"epl_gold\"\n",
    "spark.sql(f\"CREATE SCHEMA IF NOT EXISTS {catalog_name}.{g_schema_name}\")"
   ]
  }
 ],
 "metadata": {
  "application/vnd.databricks.v1+notebook": {
   "computePreferences": null,
   "dashboards": [],
   "environmentMetadata": {
    "base_environment": "",
    "environment_version": "4"
   },
   "inputWidgetPreferences": null,
   "language": "python",
   "notebookMetadata": {
    "pythonIndentUnit": 4
   },
   "notebookName": "EPL_create_medellion_architecture",
   "widgets": {}
  },
  "language_info": {
   "name": "python"
  }
 },
 "nbformat": 4,
 "nbformat_minor": 0
}
